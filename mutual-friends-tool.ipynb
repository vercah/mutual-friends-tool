{
 "cells": [
  {
   "cell_type": "code",
   "execution_count": 1,
   "metadata": {},
   "outputs": [
    {
     "name": "stdout",
     "output_type": "stream",
     "text": [
      "Hello, World!\n"
     ]
    }
   ],
   "source": [
    "print(\"Hello, World!\")"
   ]
  },
  {
   "cell_type": "code",
   "execution_count": 2,
   "metadata": {},
   "outputs": [],
   "source": [
    "#get the driver to work\n",
    "from selenium import webdriver\n",
    "from bs4 import BeautifulSoup\n",
    "from sensitiveInfo import *n",
    "import time\n",
    "#scrolling (https://scontent.fprg3-1.fna.fbcdn.net/v/t1.0-9/93702192_2544716609124732_3178329855498387456_n.jpg?_nc_cat=111&_nc_sid=8024bb&_nc_ohc=ovRotc0LoVkAX81oYaY&_nc_ht=scontent.fprg3-1.fna&oh=4d4dcff4e0bbdd69d05c8f23e9e29177&oe=5EDA2E47)\n",
    "from selenium.webdriver.support.ui import WebDriverWait\n",
    "from selenium.webdriver.support import expected_conditions as EC\n",
    "from selenium.webdriver.common.by import By\n",
    "from selenium.common.exceptions import TimeoutException"
   ]
  },
  {
   "cell_type": "code",
   "execution_count": 3,
   "metadata": {},
   "outputs": [],
   "source": [
    "#forbid the website notifications which hampers the scrolling, enable webdriver\n",
    "browser_profile = webdriver.FirefoxProfile()\n",
    "browser_profile.set_preference(\"dom.webnotifications.enabled\", False)\n",
    "driver = webdriver.Firefox(firefox_profile=browser_profile)\n",
    "\n",
    "#people of which I want to see their mutual friends. Have to give url address of their friendlist\n",
    "url_01 = \"https://www.facebook.com/FRIEND_1_NAME/friends?lst=100007974100412%3A100001302786086%3A1587055799&source_ref=pb_friends_tl\"\n",
    "url_02 = \"https://www.facebook.com/FRIEND_2_NAME/friends?lst=100007974100412%3A100016865623131%3A1588951751&source_ref=pb_friends_tl\""
   ]
  },
  {
   "cell_type": "code",
   "execution_count": 4,
   "metadata": {},
   "outputs": [],
   "source": [
    "#find friends, scroll and download html content\n",
    "def getFriends(url):\n",
    "    driver.get(url)\n",
    "    while True:\n",
    "        try:\n",
    "            myElem = WebDriverWait(driver, 1).until(EC.presence_of_element_located((By.ID, 'pagelet_timeline_medley_photos')))\n",
    "            return BeautifulSoup(driver.find_element_by_id('pagelet_timeline_medley_friends').get_attribute(\"innerHTML\"), \"html.parser\")\n",
    "        except:\n",
    "            driver.execute_script(\"window.scrollTo(0, document.body.scrollHeight)\")            "
   ]
  },
  {
   "cell_type": "code",
   "execution_count": 5,
   "metadata": {},
   "outputs": [],
   "source": [
    "#firstly have to log in and get to the site:\n",
    "driver.get(\"https://www.facebook.com/\")\n",
    "driver.find_element_by_id(\"email\").send_keys(EMAIL)\n",
    "driver.find_element_by_id('pass').send_keys(PASSWORD)\n",
    "driver.find_element_by_id(\"u_0_b\").click()\n",
    "\n",
    "#find the people:\n",
    "soup_01 = getFriends(url_01)\n",
    "soup_02 = getFriends(url_02)\n",
    "\n",
    "driver.quit()\n",
    "\n",
    "#get the names from soup\n",
    "def getNames(soup, list):\n",
    "    for each in soup.findAll('img', attrs={'class':\"_s0 _4ooo _1x2_ _1ve7 _rv img\"}):\n",
    "        list.append(each.get(\"aria-label\"))\n",
    "\n",
    "#get the links from soup\n",
    "def getLinks(soup, list):\n",
    "    for each in soup.findAll('a', attrs={'aria-hidden':\"true\"}):\n",
    "        list.append(each.get(\"href\"))"
   ]
  },
  {
   "cell_type": "code",
   "execution_count": 6,
   "metadata": {
    "scrolled": true
   },
   "outputs": [
    {
     "name": "stdout",
     "output_type": "stream",
     "text": [
      "Mutual friends: 3\n",
      "XXX – https://www.facebook.com/XXX\n",
      "YYY – https://www.facebook.com/YYY\n",
      "ZZZ – https://www.facebook.com/ZZZ\n"
     ]
    }
   ],
   "source": [
    "#create lists\n",
    "jmena_01 = []\n",
    "adresy_01 = []\n",
    "jmena_02 = []\n",
    "adresy_02 = []\n",
    "getNames(soup_01, jmena_01)\n",
    "getNames(soup_02, jmena_02)\n",
    "getLinks(soup_01, adresy_01)\n",
    "getLinks(soup_02, adresy_02)\n",
    "\n",
    "#comparison and result in dictionary\n",
    "mutual = {}\n",
    "\n",
    "for i in range(len(adresy_01)):\n",
    "    for j in range (len(adresy_02)):\n",
    "        if adresy_01[i]==adresy_02[j]:\n",
    "            mutual.update({jmena_01[i]:adresy_01[i]})            \n",
    "            \n",
    "print (\"Mutual friends: \" + str(len(mutual)))\n",
    "for jmeno, adresa in mutual.items():\n",
    "    print(jmeno + \" – \" + adresa)"
   ]
  },
  {
   "cell_type": "markdown",
   "metadata": {},
   "source": [
    "Comparison is based on comparing the url addresses not names of people.\n",
   ]
  }
 ],
 "metadata": {
  "kernelspec": {
   "display_name": "Python 3",
   "language": "python",
   "name": "python3"
  },
  "language_info": {
   "codemirror_mode": {
    "name": "ipython",
    "version": 3
   },
   "file_extension": ".py",
   "mimetype": "text/x-python",
   "name": "python",
   "nbconvert_exporter": "python",
   "pygments_lexer": "ipython3",
   "version": "3.7.6"
  }
 },
 "nbformat": 4,
 "nbformat_minor": 4
}
